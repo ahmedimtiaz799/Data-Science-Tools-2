{
 "cells": [
  {
   "cell_type": "markdown",
   "id": "f295d9d0-f253-4f44-ab07-074e040efb82",
   "metadata": {},
   "source": [
    "# Data Science Tools and Ecosystem"
   ]
  },
  {
   "cell_type": "markdown",
   "id": "921e2424-4802-4a80-8f59-23e90246770e",
   "metadata": {},
   "source": [
    "In this notebook, Data Science Tools and Ecosystem are summarized.\r\n"
   ]
  },
  {
   "cell_type": "markdown",
   "id": "05849ae3-f9e2-4b78-88d8-73b1a1f17709",
   "metadata": {},
   "source": [
    "Some of the popular languages that Data Scientists use are:\n",
    "1. Python\r\n",
    "2. R\r\n",
    "3. SQL\r\n",
    "\n"
   ]
  },
  {
   "cell_type": "markdown",
   "id": "f3b644f5-5129-479e-995c-4c21851fc679",
   "metadata": {},
   "source": [
    "Some of the commonly used libraries used by Data Scientists include:\n",
    "1. Pandas\r\n",
    "2. NumPy\r\n",
    "3. Matplotlib\r\n"
   ]
  },
  {
   "cell_type": "markdown",
   "id": "ad283fa6-b80d-4025-a2a2-a33fdcd19f9c",
   "metadata": {},
   "source": [
    "| Data Science Tools |\r\n",
    "|---------------------|\r\n",
    "| Jupyter Notebook     |\r\n",
    "| RStudio              |\r\n",
    "| Spyder               |\r\n"
   ]
  },
  {
   "cell_type": "markdown",
   "id": "c731f78e-73b6-4670-b7c8-cbc7a2bfcd8d",
   "metadata": {},
   "source": [
    "### Below are a few examples of evaluating arithmetic expressions in Python."
   ]
  },
  {
   "cell_type": "code",
   "execution_count": 12,
   "id": "9d8a65f7-4738-42f6-996a-7e019f84c523",
   "metadata": {},
   "outputs": [
    {
     "data": {
      "text/plain": [
       "17"
      ]
     },
     "execution_count": 12,
     "metadata": {},
     "output_type": "execute_result"
    }
   ],
   "source": [
    "# This is a simple arithmetic expression to multiply then add integers.\n",
    "result = (3 * 4) + 5\n",
    "result\n",
    "\r\n"
   ]
  },
  {
   "cell_type": "code",
   "execution_count": 14,
   "id": "ff7c1832-a5c3-41bd-a3bf-8735aae63280",
   "metadata": {},
   "outputs": [
    {
     "data": {
      "text/plain": [
       "3.3333333333333335"
      ]
     },
     "execution_count": 14,
     "metadata": {},
     "output_type": "execute_result"
    }
   ],
   "source": [
    "# This will convert 200 minutes to hours by dividing by 60.\n",
    "hours = 200 / 60\n",
    "hours\n"
   ]
  },
  {
   "cell_type": "markdown",
   "id": "0ef0b0aa-7d13-4d19-b5da-74563f9a4f30",
   "metadata": {},
   "source": [
    "**Objectives:**\r\n",
    "- List popular languages for Data Science.\r\n",
    "- List common libraries used in Data Science.\r\n",
    "- Provide examples of arithmetic expressions.\r\n"
   ]
  },
  {
   "cell_type": "markdown",
   "id": "1e3f5fb7-e6ea-477e-b6fb-98877cb7c5c5",
   "metadata": {},
   "source": [
    "## Author\n",
    "Ahmed Imtiaz\n"
   ]
  },
  {
   "cell_type": "code",
   "execution_count": null,
   "id": "0d157f38-58bf-4c1c-ade3-c0d8123e7135",
   "metadata": {},
   "outputs": [],
   "source": []
  }
 ],
 "metadata": {
  "kernelspec": {
   "display_name": "Python 3 (ipykernel)",
   "language": "python",
   "name": "python3"
  },
  "language_info": {
   "codemirror_mode": {
    "name": "ipython",
    "version": 3
   },
   "file_extension": ".py",
   "mimetype": "text/x-python",
   "name": "python",
   "nbconvert_exporter": "python",
   "pygments_lexer": "ipython3",
   "version": "3.12.4"
  }
 },
 "nbformat": 4,
 "nbformat_minor": 5
}
